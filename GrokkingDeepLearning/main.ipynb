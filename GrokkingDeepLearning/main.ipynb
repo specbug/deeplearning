{
 "cells": [
  {
   "cell_type": "code",
   "execution_count": 1,
   "metadata": {},
   "outputs": [],
   "source": [
    "import numpy as np\n",
    "import matplotlib.pyplot as plt"
   ]
  },
  {
   "cell_type": "markdown",
   "metadata": {},
   "source": [
    "# 1: Node"
   ]
  },
  {
   "cell_type": "code",
   "execution_count": 2,
   "metadata": {},
   "outputs": [],
   "source": [
    "def neural_network(_input, weight=0.1):\n",
    "    prediction = _input * weight\n",
    "    return prediction"
   ]
  },
  {
   "cell_type": "code",
   "execution_count": 4,
   "metadata": {},
   "outputs": [
    {
     "name": "stdout",
     "output_type": "stream",
     "text": [
      "input: 5.896735983341859\n",
      "\n",
      "prediction: 0.589673598334186\n"
     ]
    }
   ],
   "source": [
    "inputs = np.random.uniform(1, 10, 5)\n",
    "_input = inputs[0]\n",
    "\n",
    "print('input:', _input)\n",
    "\n",
    "print('\\nprediction:', neural_network(_input))"
   ]
  },
  {
   "cell_type": "markdown",
   "metadata": {},
   "source": [
    "Think of `weights` as _sensitivity_ knobs. They determine the impact of your inputs on your output. And your __neural network__ is just a fancy function to perform trial-and-error. You tweak these \"knobs\" to better map the relation between your input and output. "
   ]
  },
  {
   "cell_type": "markdown",
   "metadata": {},
   "source": [
    "# 2: Multiple Inputs"
   ]
  },
  {
   "cell_type": "code",
   "execution_count": 5,
   "metadata": {},
   "outputs": [],
   "source": [
    "def weighted_sum(inputs, weights):\n",
    "    assert len(inputs) == len(weights)\n",
    "    pred = 0\n",
    "    \n",
    "    for i in range(len(inputs)):\n",
    "        pred += inputs[i]*weights[i]\n",
    "        \n",
    "    return pred\n",
    "\n",
    "def neural_network(inputs, weights):\n",
    "    pred = weighted_sum(inputs, weights)\n",
    "    return pred"
   ]
  },
  {
   "cell_type": "code",
   "execution_count": 6,
   "metadata": {},
   "outputs": [
    {
     "name": "stdout",
     "output_type": "stream",
     "text": [
      "inputs: [6.63688685 2.46943423 3.51398331 3.68626505 7.8058235 ]\n",
      "weights: [8.16317281 3.55392672 1.10042642 3.27688316 6.75178809]\n",
      "\n",
      "prediction: 131.6038485828217\n"
     ]
    }
   ],
   "source": [
    "inputs = np.random.uniform(1, 10, 5)\n",
    "weights = np.random.uniform(1, 10, 5)\n",
    "\n",
    "print('inputs:', inputs)\n",
    "print('weights:', weights)\n",
    "print('\\nprediction:', neural_network(inputs, weights))"
   ]
  },
  {
   "cell_type": "markdown",
   "metadata": {},
   "source": [
    "__Fun analogy: Think of `weights` as logical gates.__\n",
    "\n",
    "``` \n",
    "    weights = [1, 0, 1]    ⟹ if input[0] or input[2]\n",
    "    weights = [-1, 0, 0]   ⟹ if NOT input[0]\n",
    "    weights = [0.5, 1, -1] ⟹ if BIG input[1] or input[2] or NOT input[2]\n",
    "```"
   ]
  },
  {
   "cell_type": "markdown",
   "metadata": {},
   "source": [
    "## 2.1: Vectorized Implementation"
   ]
  },
  {
   "cell_type": "code",
   "execution_count": 7,
   "metadata": {},
   "outputs": [],
   "source": [
    "def neural_network(inputs, weights):\n",
    "    prediction = np.dot(inputs, weights)\n",
    "    return prediction"
   ]
  },
  {
   "cell_type": "code",
   "execution_count": 8,
   "metadata": {},
   "outputs": [
    {
     "name": "stdout",
     "output_type": "stream",
     "text": [
      "inputs: [1.32676645 3.2993488  7.28709017 4.43146487 6.46776967]\n",
      "weights: [5.39245707 3.57744419 1.91113977 2.157957   6.17081936]\n",
      "\n",
      "prediction: 82.35876404490676\n"
     ]
    }
   ],
   "source": [
    "inputs = np.random.uniform(1, 10, 5)\n",
    "weights = np.random.uniform(1, 10, 5)\n",
    "\n",
    "print('inputs:', inputs)\n",
    "print('weights:', weights)\n",
    "print('\\nprediction:', neural_network(inputs, weights))"
   ]
  },
  {
   "cell_type": "markdown",
   "metadata": {},
   "source": [
    "# 3: Multiple Inputs & Outputs"
   ]
  },
  {
   "cell_type": "markdown",
   "metadata": {},
   "source": [
    "Think of the network as a series of nodes. You're just doing the above weighted sum operation for each of those nodes, consequently."
   ]
  },
  {
   "cell_type": "markdown",
   "metadata": {},
   "source": [
    "<img src=\"Simple NN.png\">"
   ]
  },
  {
   "cell_type": "code",
   "execution_count": 13,
   "metadata": {},
   "outputs": [],
   "source": [
    "def weighted_sum(inp, wgt):\n",
    "    assert len(inp) == len(wgt)\n",
    "    op = 0\n",
    "    \n",
    "    for i in range(len(inp)):\n",
    "        op += inp[i] * wgt[i]\n",
    "        \n",
    "    return op\n",
    "\n",
    "def multi_wsum(vect, matrix):\n",
    "    assert len(vect) == len(matrix)\n",
    "    output = []\n",
    "    \n",
    "    for i in range(len(vect)):\n",
    "        output.append(weighted_sum(vect, matrix[i]))\n",
    "    return output\n",
    "\n",
    "def neural_network(inputs, weights):\n",
    "    pred = multi_wsum(inputs, weights)\n",
    "    return pred"
   ]
  },
  {
   "cell_type": "code",
   "execution_count": 14,
   "metadata": {},
   "outputs": [
    {
     "name": "stdout",
     "output_type": "stream",
     "text": [
      "inputs: [-5  6  6]\n",
      "weights:\n",
      " [[ 4 -6 -7]\n",
      " [-2  0 -6]\n",
      " [ 0  5 -1]]\n",
      "\n",
      "prediction: [-98, -26, 24]\n"
     ]
    }
   ],
   "source": [
    "inputs = np.random.randint(-7, 7, 3)\n",
    "weights = np.array([np.random.randint(-7, 7, 3) for i in range(3)])\n",
    "\n",
    "print('inputs:', inputs)\n",
    "print('weights:\\n', weights)\n",
    "print('\\nprediction:', neural_network(inputs, weights))"
   ]
  },
  {
   "cell_type": "code",
   "execution_count": 15,
   "metadata": {},
   "outputs": [
    {
     "data": {
      "text/plain": [
       "[-98, -26, 24]"
      ]
     },
     "execution_count": 15,
     "metadata": {},
     "output_type": "execute_result"
    }
   ],
   "source": [
    "[(weights[0][0]*inputs[0]) + (weights[0][1]*inputs[1]) + (weights[0][2]*inputs[2]), \n",
    " (weights[1][0]*inputs[0]) + (weights[1][1]*inputs[1]) + (weights[1][2]*inputs[2]), \n",
    " (weights[2][0]*inputs[0]) + (weights[2][1]*inputs[1]) + (weights[2][2]*inputs[2])]"
   ]
  },
  {
   "cell_type": "markdown",
   "metadata": {},
   "source": [
    "# 4: Hidden Layers"
   ]
  },
  {
   "cell_type": "markdown",
   "metadata": {},
   "source": [
    "<img src=\"Hidden_NN.png\">"
   ]
  },
  {
   "cell_type": "code",
   "execution_count": 3,
   "metadata": {},
   "outputs": [],
   "source": [
    "def vector_mult(inp, wgt):\n",
    "    return np.dot(inp, wgt)\n",
    "\n",
    "def neural_network(inputs, weights):\n",
    "    hidden = vector_mult(inputs, weights[0])\n",
    "    pred = vector_mult(inputs, weights[1])\n",
    "    return pred"
   ]
  },
  {
   "cell_type": "code",
   "execution_count": 4,
   "metadata": {},
   "outputs": [
    {
     "name": "stdout",
     "output_type": "stream",
     "text": [
      "inputs: [56 65 97 68 66]\n",
      "weights (input-hidden):\n",
      " [[1.49339159 3.75999015 7.40572827 5.00936213 6.438203  ]\n",
      " [7.12067093 3.6951563  3.35397602 9.30203903 6.05722434]\n",
      " [5.08040716 3.24196362 2.8361506  8.38514631 2.65683486]\n",
      " [3.75041854 2.71531395 6.72266344 8.4611572  3.44647314]\n",
      " [6.26748874 4.10718515 8.76811026 6.08803609 2.37955617]]\n",
      "weights (hidden-output):\n",
      " [[3.9911154  2.08008322 7.57609461 8.5693905  1.05715246]\n",
      " [1.13841144 3.84977835 9.19902008 4.9240615  3.30488756]\n",
      " [7.03024376 6.41840583 2.32495491 8.56293092 2.90896256]\n",
      " [3.85431905 5.57634943 7.03630498 3.98538684 2.21037102]\n",
      " [3.36585035 5.28188286 1.31866603 4.65270192 2.85735597]]\n",
      "\n",
      "prediction: [1463.6726689  1717.10164893 1813.21892643 2208.63879573  895.07832078]\n"
     ]
    }
   ],
   "source": [
    "inputs = np.random.randint(1, 100, 5)\n",
    "ih_weights = np.array([np.random.uniform(1, 10, 5) for i in range(5)])\n",
    "ho_weights = np.array([np.random.uniform(1, 10, 5) for i in range(5)])\n",
    "weights = [ih_weights, ho_weights]\n",
    "\n",
    "print('inputs:', inputs)\n",
    "print('weights (input-hidden):\\n', ih_weights)\n",
    "print('weights (hidden-output):\\n', ho_weights)\n",
    "print('\\nprediction:', neural_network(inputs, weights))"
   ]
  },
  {
   "cell_type": "markdown",
   "metadata": {},
   "source": [
    "# 5: Hot & Cold Learning"
   ]
  },
  {
   "cell_type": "markdown",
   "metadata": {},
   "source": [
    "As seen above, you tweak weights (knobs) until you get the error as close to zero as possible."
   ]
  },
  {
   "cell_type": "code",
   "execution_count": 2,
   "metadata": {},
   "outputs": [],
   "source": [
    "def neural_network(inputs, weights):\n",
    "    return inputs*weights\n",
    "\n",
    "def loss_fn(pred, goal):\n",
    "    return (pred-goal)**2"
   ]
  },
  {
   "cell_type": "code",
   "execution_count": 3,
   "metadata": {},
   "outputs": [],
   "source": [
    "iterations = 1000\n",
    "ip = 0.5\n",
    "wgt = 0.5\n",
    "goal = 0.8\n",
    "step_amount = 0.001 # tweak weight"
   ]
  },
  {
   "cell_type": "code",
   "execution_count": 4,
   "metadata": {},
   "outputs": [
    {
     "name": "stdout",
     "output_type": "stream",
     "text": [
      "Weight before optimization 0.5 \n",
      "\n",
      "Error after iteration 100 : 0.2505002499999999\n",
      "Error after iteration 200 : 0.20295024999999997\n",
      "Error after iteration 300 : 0.16040024999999994\n",
      "Error after iteration 400 : 0.12285024999999991\n",
      "Error after iteration 500 : 0.09030024999999989\n",
      "Error after iteration 600 : 0.06275025000000264\n",
      "Error after iteration 700 : 0.04020025000000432\n",
      "Error after iteration 800 : 0.022650250000004903\n",
      "Error after iteration 900 : 0.01010025000000438\n",
      "Error after iteration 1000 : 0.0025502500000027573\n",
      "\n",
      "Weight after optimization 1.4999999999999454\n"
     ]
    }
   ],
   "source": [
    "error_history = []\n",
    "\n",
    "print('Weight before optimization', wgt, '\\n')\n",
    "\n",
    "for i in range(1, iterations+1):\n",
    "    pred = neural_network(ip, wgt)\n",
    "    error = loss_fn(pred, goal)\n",
    "    \n",
    "    up_pred = neural_network(ip, wgt+step_amount)\n",
    "    up_error = loss_fn(up_pred, goal)\n",
    "    \n",
    "    dn_pred = neural_network(ip, wgt-step_amount)\n",
    "    dn_error = loss_fn(dn_pred, goal)\n",
    "    \n",
    "    if dn_error < up_error:\n",
    "        wgt -= step_amount\n",
    "    else:\n",
    "        wgt += step_amount\n",
    "        \n",
    "    error_history.append(error)\n",
    "    if i%100==0:\n",
    "        print('Error after iteration', i, ':', error)\n",
    "    \n",
    "print('\\nWeight after optimization', wgt)"
   ]
  },
  {
   "cell_type": "code",
   "execution_count": 5,
   "metadata": {},
   "outputs": [
    {
     "data": {
      "image/png": "[encoded data removed]",
      "text/plain": [
       "<Figure size 1152x360 with 1 Axes>"
      ]
     },
     "metadata": {
      "needs_background": "light"
     },
     "output_type": "display_data"
    }
   ],
   "source": [
    "plt.figure(figsize=(16, 5))\n",
    "plt.plot(error_history, c='r')\n",
    "plt.xlabel('iteration')\n",
    "plt.legend(['error'])\n",
    "plt.show()"
   ]
  },
  {
   "cell_type": "code",
   "execution_count": 6,
   "metadata": {},
   "outputs": [
    {
     "data": {
      "image/png": "[encoded data removed]",
      "text/plain": [
       "<Figure size 1152x360 with 1 Axes>"
      ]
     },
     "metadata": {
      "needs_background": "light"
     },
     "output_type": "display_data"
    }
   ],
   "source": [
    "fig, ax = plt.subplots(1, figsize=(16, 5))\n",
    "ax.plot(np.sqrt(np.array(error_history)) + goal, c='b')\n",
    "ax.plot([goal]*iterations, c='g')\n",
    "plt.legend(['prediction', 'goal'])\n",
    "plt.xlabel('iteration')\n",
    "plt.show()"
   ]
  },
  {
   "cell_type": "markdown",
   "metadata": {},
   "source": [
    "## 4.1: Direction & Amplitude"
   ]
  },
  {
   "cell_type": "markdown",
   "metadata": {},
   "source": [
    "Above we saw tweaking the knob based on the polarity of the weight, however we didn't have a concrete method to calculate the \"amount of tweaking\". We can calculate both (simultaneously), using (roughly) _gradient descent_."
   ]
  },
  {
   "cell_type": "code",
   "execution_count": 2,
   "metadata": {},
   "outputs": [],
   "source": [
    "def neural_network(ip, wgt):\n",
    "    return ip*wgt\n",
    "\n",
    "def cust_error(pred, goal):\n",
    "    return (pred-goal)**2\n",
    "\n",
    "def get_step_size(ip, pred, goal):\n",
    "    return (pred-goal)*ip"
   ]
  },
  {
   "cell_type": "code",
   "execution_count": 11,
   "metadata": {},
   "outputs": [],
   "source": [
    "iterations = 15\n",
    "ip = 0.5\n",
    "wgt = 0.5\n",
    "goal = 0.8"
   ]
  },
  {
   "cell_type": "code",
   "execution_count": 12,
   "metadata": {},
   "outputs": [
    {
     "name": "stdout",
     "output_type": "stream",
     "text": [
      "Weight before optimization 0.5 \n",
      "\n",
      "Error after iteration 10: 0.0017054073093822882\n",
      "Weight after optimization 1.5853001928888262 \n",
      "\n"
     ]
    }
   ],
   "source": [
    "error_history = []\n",
    "print('Weight before optimization', wgt, '\\n')\n",
    "\n",
    "for i in range(1, iterations+1):\n",
    "    pred = neural_network(ip, wgt)\n",
    "    error = cust_error(pred, goal)\n",
    "    step_amount = get_step_size(ip, pred, goal)\n",
    "    wgt = wgt - step_amount\n",
    "    error_history.append(error)\n",
    "    if i%10==0:\n",
    "        print('Error after iteration '+str(i)+': '+str(error))\n",
    "    \n",
    "print('Weight after optimization', wgt, '\\n')"
   ]
  },
  {
   "cell_type": "code",
   "execution_count": 13,
   "metadata": {},
   "outputs": [
    {
     "data": {
      "image/png": "[encoded data removed]",
      "text/plain": [
       "<Figure size 1152x360 with 1 Axes>"
      ]
     },
     "metadata": {
      "needs_background": "light"
     },
     "output_type": "display_data"
    }
   ],
   "source": [
    "plt.figure(figsize=(16, 5))\n",
    "plt.plot(error_history, c='r')\n",
    "plt.xlabel('iteration')\n",
    "plt.legend(['error'])\n",
    "plt.show()"
   ]
  },
  {
   "cell_type": "code",
   "execution_count": 14,
   "metadata": {},
   "outputs": [
    {
     "data": {
      "image/png": "[encoded data removed]",
      "text/plain": [
       "<Figure size 1152x360 with 1 Axes>"
      ]
     },
     "metadata": {
      "needs_background": "light"
     },
     "output_type": "display_data"
    }
   ],
   "source": [
    "fig, ax = plt.subplots(1, figsize=(16, 5))\n",
    "ax.plot(np.sqrt(np.array(error_history)) + goal, c='b')\n",
    "ax.plot([goal]*iterations, c='g')\n",
    "plt.legend(['prediction', 'goal'])\n",
    "plt.xlabel('iteration')\n",
    "plt.show()"
   ]
  },
  {
   "cell_type": "markdown",
   "metadata": {},
   "source": [
    "Compare the above results with 1000 iterations to the current approach with just 15 iterations!"
   ]
  },
  {
   "cell_type": "code",
   "execution_count": null,
   "metadata": {},
   "outputs": [],
   "source": []
  }
 ],
 "metadata": {
  "kernelspec": {
   "display_name": "Python 3",
   "language": "python",
   "name": "python3"
  },
  "language_info": {
   "codemirror_mode": {
    "name": "ipython",
    "version": 3
   },
   "file_extension": ".py",
   "mimetype": "text/x-python",
   "name": "python",
   "nbconvert_exporter": "python",
   "pygments_lexer": "ipython3",
   "version": "3.8.3"
  }
 },
 "nbformat": 4,
 "nbformat_minor": 4
}
